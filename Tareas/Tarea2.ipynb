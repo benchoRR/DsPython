{
 "cells": [
  {
   "cell_type": "markdown",
   "id": "selective-answer",
   "metadata": {},
   "source": [
    "**Universidad Galileo** \n",
    "\n",
    "**Ciencia de Datos en Python**\n",
    "\n",
    "**Edgar Rubén Rojas Ovando - 21000567** \n",
    "\n",
    "\n",
    "\n",
    "## Tarea 2 - Control de Versiones GIT\n",
    "\n",
    "La mayoría de personas al iniciar un proyecto, más de alguna vez ha guardado su proyecto con varias versiones únicamente creando carpetas o renombrandolos. Esto ya sea un documento sencillo de word o un proyecto de programación. \n",
    "\n",
    "Para los que día a día desarrollamos software y además lo hacemos de manera colaborativa se complica demasiado hacerlo de esta manera. A partir de ello se creó el versionamiento de aplicaciones, habiendo varias maneras de hacerlo. Entre estas maneras los más populares son Subversion y GIT.\n",
    "\n",
    "El video indicado se centra en git, que es el que más popularidad y robustes posee en los últimos años.\n",
    "\n",
    "Inician observando una imagen de comedia en donde un programador muestra git y sus ventajas a unos amigos pero cuando le preguntan como lo usa responde que no tiene idea simplemente memoriza los comandos y si tiene errores elimina el proyeto y vuelve a clonarlo, esto hace énfasis en que la mayoría de usuarios utiliza git en sus comandos más básicos memorizados sin embargo no tienen idea de su funcionamiento.\n",
    "\n",
    "Que ventajas nos provee utilizar git: \n",
    "\n",
    "* Guarda un Histórico de los cambios\n",
    "* Permite el trabajo colaborativo en un mismo proyecto.\n",
    "* Ayuda a unir los cambios de dos versiones distintas.\n",
    "* Guarda Snapshots de los cambios\n",
    "* Permite regresar a una versión antigua \n",
    "* Lleva un control de quién realizó los cambios\n",
    "\n",
    "\n",
    "Para comprender mejor Git se observó la estructura con que guarda los proyectos internamente.\n",
    "\n",
    "Los componentes que utiliza son los siguientes:\n",
    "\n",
    "**Blob:** Es cualquier tipo de archivo es decir un grupo de bytes con un formato especifico.\n",
    "\n",
    "**Tree:** Es un directorio que puede contener varios archivos u otros directorios.\n",
    "\n",
    "**Intantánea:**  Es el nivel árbol de nivel superior\n",
    "\n",
    "Una vez que comprendamos la definición de los componentes se puede ejemplificar su uso tomando de manera literal elejemplo del video:\n",
    "\n"
   ]
  },
  {
   "cell_type": "raw",
   "id": "leading-robertson",
   "metadata": {},
   "source": [
    "<root> (tree)\n",
    "|\n",
    "+- foo (tree)\n",
    "|  |\n",
    "|  + bar.txt (blob, contents = \"hello world\")\n",
    "|\n",
    "+- baz.txt (blob, contents = \"git is wonderful\")"
   ]
  },
  {
   "cell_type": "markdown",
   "id": "earlier-infrared",
   "metadata": {},
   "source": [
    "Este es un ejemplo de la estructura, sin embargo internamente se crean nodos que se realacionan unos con otros con un identificador con codigo único con un hash sha1; este código es el que utiliza git internamente para poder identificar los snapshots tomados con cada commit.  Definamos Commit como na confirmación de los cambios, es decir cuando se hace un nuevo snapshot.\n",
    "\n",
    "Para iniciar un repositorio git basta con ubicarse en la dirección correcta en la terminal utilzando el comando cd(Chaange directory), luego de esto se debe ejecutar:\n",
    "\n",
    "**Por favor obviar el caracter ! si se ejecuta en una terminal**"
   ]
  },
  {
   "cell_type": "code",
   "execution_count": 1,
   "id": "through-amplifier",
   "metadata": {},
   "outputs": [
    {
     "name": "stdout",
     "output_type": "stream",
     "text": [
      "Reinicializado el repositorio Git existente en /home/bencho/Escritorio/Maestría Data Science/1er Trimestre/DS en Python/Ejercicios en Clase/.git/\n"
     ]
    }
   ],
   "source": [
    "!git init"
   ]
  },
  {
   "cell_type": "markdown",
   "id": "forbidden-trash",
   "metadata": {},
   "source": [
    "Con esto inicializamos el repositorio.\n",
    "\n",
    "Se crea un archivo de prueba\n"
   ]
  },
  {
   "cell_type": "code",
   "execution_count": 2,
   "id": "decent-biodiversity",
   "metadata": {},
   "outputs": [],
   "source": [
    "!echo \"Documento de prueba\" > test.txt"
   ]
  },
  {
   "cell_type": "markdown",
   "id": "settled-father",
   "metadata": {},
   "source": [
    "Una vez creado el documento se procede a agregarlo al repositorio con el comando:"
   ]
  },
  {
   "cell_type": "code",
   "execution_count": 3,
   "id": "united-cherry",
   "metadata": {},
   "outputs": [],
   "source": [
    "!git add test.txt"
   ]
  },
  {
   "cell_type": "markdown",
   "id": "opposed-floating",
   "metadata": {},
   "source": [
    "Para confirmar el cambio y que cree el snapshot se ejecuta:"
   ]
  },
  {
   "cell_type": "code",
   "execution_count": 4,
   "id": "stuck-description",
   "metadata": {},
   "outputs": [
    {
     "name": "stdout",
     "output_type": "stream",
     "text": [
      "En la rama RamaEjemplo\n",
      "Archivos sin seguimiento:\n",
      "\t\u001b[31m.ipynb_checkpoints/\u001b[m\n",
      "\t\u001b[31mClase_03_intro_Python.ipynb\u001b[m\n",
      "\t\u001b[31mClase_04_Estructuras_de_Control.ipynb\u001b[m\n",
      "\t\u001b[31mClase_05_Estructuras_de_Datos.ipynb\u001b[m\n",
      "\t\u001b[31mTarea2.ipynb\u001b[m\n",
      "\t\u001b[31mTarea3.ipynb\u001b[m\n",
      "\t\u001b[31mejemplos_numpy.ipynb\u001b[m\n",
      "\t\u001b[31minstruccionesTerminal.txt\u001b[m\n",
      "\t\u001b[31muntitled.md\u001b[m\n",
      "\n",
      "no hay nada agregado para confirmar, pero hay archivos sin seguimiento presentes\n"
     ]
    }
   ],
   "source": [
    "!git commit -m \"Mensaje para identificar el commit\""
   ]
  },
  {
   "cell_type": "markdown",
   "id": "remarkable-portfolio",
   "metadata": {},
   "source": [
    "Tomando en cuenta que el mensaje debe ser claro y significativo para identificar los cambios realizados.\n",
    "\n",
    "De esta manera iniciamos el repositorio, añadimos un archivo y confirmos el snapshot.\n",
    "\n",
    "**Ramas:**\n",
    "\n",
    "Las ramas son bifurcaciones o snapshots separados a partir de uno solo en los cuales se puede trabajar de manera independiente para luego integrarlos y unirlos de nuevo al head.\n",
    "\n",
    "Para ver las ramas que cuenta el repositorio utilizamos:\n"
   ]
  },
  {
   "cell_type": "code",
   "execution_count": 5,
   "id": "governing-transportation",
   "metadata": {},
   "outputs": [
    {
     "name": "stdout",
     "output_type": "stream",
     "text": [
      "* \u001b[32mRamaEjemplo\u001b[m\n",
      "  master\u001b[m\n"
     ]
    }
   ],
   "source": [
    "!git branch"
   ]
  },
  {
   "cell_type": "markdown",
   "id": "fancy-vegetable",
   "metadata": {},
   "source": [
    "Para crear una nueva rama:"
   ]
  },
  {
   "cell_type": "code",
   "execution_count": 6,
   "id": "drawn-dispute",
   "metadata": {},
   "outputs": [
    {
     "name": "stdout",
     "output_type": "stream",
     "text": [
      "fatal: Una rama llamada 'RamaEjemplo' ya existe.\n"
     ]
    }
   ],
   "source": [
    "!git checkout -b RamaEjemplo"
   ]
  },
  {
   "cell_type": "markdown",
   "id": "specified-electronics",
   "metadata": {},
   "source": [
    "Luego de tener una rama distinta a la actual se pueden unirlas ejecutando:"
   ]
  },
  {
   "cell_type": "code",
   "execution_count": 10,
   "id": "presidential-junction",
   "metadata": {},
   "outputs": [
    {
     "name": "stdout",
     "output_type": "stream",
     "text": [
      "Ya está actualizado.\n"
     ]
    }
   ],
   "source": [
    "!git merge RamaEjemplo"
   ]
  },
  {
   "cell_type": "markdown",
   "id": "experimental-universal",
   "metadata": {},
   "source": [
    "Si necesitamos realizar operaciones con nuestro repositorio en la nube o en otra ubicación(a distancia) debemos utilizar los comandos:"
   ]
  },
  {
   "cell_type": "markdown",
   "id": "correct-playback",
   "metadata": {},
   "source": [
    "**git remote**  Ejecuta opreciones para un servidor remoto\n",
    "\n",
    "**git push** \n",
    "Manda el snapshot que tenemos localmente al repositorio destino \n",
    "\n",
    "**git pull** \n",
    "recupera los objetos remotos\n",
    "\n",
    "**git clone** \n",
    "descarga(clona) una copia del arbol\n"
   ]
  },
  {
   "cell_type": "markdown",
   "id": "skilled-friendship",
   "metadata": {},
   "source": [
    "Estos son los comando más utilizados y que nos sirven para el control de versiones de nuestros proyectos.\n",
    "\n",
    "Debemos destacar que es una herramienta muy util y que se ha vuelto indispensable para cualquier proyecto de programación y además está tomando mucha relevancia en otros tipos de proyectos colaborativos.\n",
    "\n"
   ]
  },
  {
   "cell_type": "markdown",
   "id": "indie-projector",
   "metadata": {},
   "source": [
    "La manera en que se crea la estructura al hacer el init de un proyecto es por medio de carpetas .git que se mantienen ocultas al usuario sin embargo almacenan los nodos y objetos que se relacionan por un id.  Podemos comprobarlos por nosotros mismos luego de ejecutar los comando mencionados anteriormente, y en la carpeta ejecutada revisar las carpetas .git\n",
    "\n",
    "En conclusión utilizar una herramienta de versionamiento es un plus para cualquier tipo de proyecto y que además provee los recursos necesarios para la colaboración y manipulación de los archivos. Guarda un registro y lleva un orden. Git es el más popular y robusto sistema de versionamiento por lo que se recomienda altamente su uso."
   ]
  },
  {
   "cell_type": "code",
   "execution_count": null,
   "id": "settled-peripheral",
   "metadata": {},
   "outputs": [],
   "source": []
  }
 ],
 "metadata": {
  "kernelspec": {
   "display_name": "Python 3",
   "language": "python",
   "name": "python3"
  },
  "language_info": {
   "codemirror_mode": {
    "name": "ipython",
    "version": 3
   },
   "file_extension": ".py",
   "mimetype": "text/x-python",
   "name": "python",
   "nbconvert_exporter": "python",
   "pygments_lexer": "ipython3",
   "version": "3.9.1"
  }
 },
 "nbformat": 4,
 "nbformat_minor": 5
}
