{
 "cells": [
  {
   "cell_type": "markdown",
   "id": "outside-local",
   "metadata": {},
   "source": [
    "**Universidad Galileo** \n",
    "\n",
    "**Ciencia de Datos en Python**\n",
    "\n",
    "**Edgar Rubén Rojas Ovando - 21000567** \n",
    "\n",
    "\n",
    "\n",
    "## Tarea 3 - FUNCIONES EN PYTHON\n",
    "\n",
    "Las funciones en python se asemejan a las de otros lenguajes de programación teniendo ciertas variantes.\n",
    "\n",
    "Una función es un bloque de programación que realiza una tarea que se indicará luego, enviándoles parámetros que se operaran dentro de la función\n",
    "estos se procesaran y retornaran datos de salida. \n",
    "\n",
    "Su utilidad es reducir líneas de código ya que pueden ser llamads múltiples veces ahorrando tiempo y optimizando los procesos.\n",
    "\n",
    "Su sintaxis es la siguiente:\n"
   ]
  },
  {
   "cell_type": "code",
   "execution_count": 60,
   "id": "considered-substance",
   "metadata": {},
   "outputs": [],
   "source": [
    "def ejemploSuma():\n",
    "    #operacion\n",
    "    print (25 + 5)\n"
   ]
  },
  {
   "cell_type": "markdown",
   "id": "black-general",
   "metadata": {},
   "source": [
    "Esta función por si sola no ejecutará nada, deberá ser llamada para que se ejecute:"
   ]
  },
  {
   "cell_type": "code",
   "execution_count": 61,
   "id": "downtown-milton",
   "metadata": {},
   "outputs": [
    {
     "name": "stdout",
     "output_type": "stream",
     "text": [
      "30\n"
     ]
    }
   ],
   "source": [
    "ejemploSuma()  #Llamada a función"
   ]
  },
  {
   "cell_type": "markdown",
   "id": "remarkable-disability",
   "metadata": {},
   "source": [
    "La función anterior es una función sin parámetros ya que no se le envía nada como argumento. sin embargo\n",
    "\n",
    "es posible enviar argumentos de entrada para que sean procesados.\n",
    "\n",
    "por ejemplo:"
   ]
  },
  {
   "cell_type": "code",
   "execution_count": 62,
   "id": "frank-holiday",
   "metadata": {},
   "outputs": [
    {
     "name": "stdout",
     "output_type": "stream",
     "text": [
      "30\n"
     ]
    }
   ],
   "source": [
    "def ejemploSuma(sumandoA, sumandoB):\n",
    "    #operacion\n",
    "    print (sumandoA + sumandoB)\n",
    "    \n",
    "ejemploSuma(25,5)"
   ]
  },
  {
   "cell_type": "markdown",
   "id": "applied-restoration",
   "metadata": {},
   "source": [
    "### Parámetros Posicionales"
   ]
  },
  {
   "cell_type": "markdown",
   "id": "infinite-citizenship",
   "metadata": {},
   "source": [
    "Para entender el ejemplo anterior debemos respectar el orden en el que se envían, siendo sumandoA el primer parámetro y sumandoB el segundo.\n",
    "\n",
    "Se debe respetar el número de parámetros, si esto no es así la función devuelve un error como en el siguiente ejemplo: (descomentar para probar)"
   ]
  },
  {
   "cell_type": "code",
   "execution_count": 63,
   "id": "agricultural-scheme",
   "metadata": {},
   "outputs": [],
   "source": [
    "# ejemploSuma(25,5,3)"
   ]
  },
  {
   "cell_type": "markdown",
   "id": "revolutionary-marketing",
   "metadata": {},
   "source": [
    "Otro ejemplo de parámetros posicionales:"
   ]
  },
  {
   "cell_type": "code",
   "execution_count": 64,
   "id": "simple-sport",
   "metadata": {},
   "outputs": [
    {
     "data": {
      "text/plain": [
       "6"
      ]
     },
     "execution_count": 64,
     "metadata": {},
     "output_type": "execute_result"
    }
   ],
   "source": [
    "def resta(a, b):\n",
    "    return a-b\n",
    "\n",
    "resta(10, 4) "
   ]
  },
  {
   "cell_type": "markdown",
   "id": "confident-settlement",
   "metadata": {},
   "source": [
    "En los argumentos no se tiene que indicar el nombre del parámetro para vincularlo, solo se debe repestar el orden \"resta(**10**, **4**)\""
   ]
  },
  {
   "cell_type": "markdown",
   "id": "human-investigation",
   "metadata": {},
   "source": [
    "### Parámetros Nombrados"
   ]
  },
  {
   "cell_type": "markdown",
   "id": "square-calculation",
   "metadata": {},
   "source": [
    "En este tipo de parámetros a diferencia de los anteriores se debe indicar el nombre de cad uno de los parametros, por ejemplo utilizando la \n",
    "misma fubnción anterior:"
   ]
  },
  {
   "cell_type": "code",
   "execution_count": 65,
   "id": "consecutive-headset",
   "metadata": {},
   "outputs": [
    {
     "data": {
      "text/plain": [
       "6"
      ]
     },
     "execution_count": 65,
     "metadata": {},
     "output_type": "execute_result"
    }
   ],
   "source": [
    "resta(a=10, b=4) "
   ]
  },
  {
   "cell_type": "markdown",
   "id": "weighted-matrix",
   "metadata": {},
   "source": [
    "### Retorno Múltiples Valores"
   ]
  },
  {
   "cell_type": "markdown",
   "id": "regulation-belief",
   "metadata": {},
   "source": [
    "En los ejemplos anteriores solo se devolvió un valor numérico. A diferencia de otros lenguajes de programación python permite\n",
    "retornar más de un valor en sus funciones. Por ejemplo:\n",
    "    "
   ]
  },
  {
   "cell_type": "code",
   "execution_count": 66,
   "id": "colonial-cover",
   "metadata": {},
   "outputs": [
    {
     "data": {
      "text/plain": [
       "(5, 4)"
      ]
     },
     "execution_count": 66,
     "metadata": {},
     "output_type": "execute_result"
    }
   ],
   "source": [
    "def retornoMultiple():\n",
    "    return 5,4\n",
    "\n",
    "retornoMultiple()"
   ]
  },
  {
   "cell_type": "markdown",
   "id": "statistical-insertion",
   "metadata": {},
   "source": [
    "En este caso nos devolvió una tupla (5,4).   \n",
    "\n",
    "Veamos otro ejemplo:"
   ]
  },
  {
   "cell_type": "code",
   "execution_count": 67,
   "id": "younger-clock",
   "metadata": {},
   "outputs": [
    {
     "data": {
      "text/plain": [
       "(9, 27)"
      ]
     },
     "execution_count": 67,
     "metadata": {},
     "output_type": "execute_result"
    }
   ],
   "source": [
    "\n",
    "def cuadradoycubo (n):\n",
    "    cuadrado = n ** 2\n",
    "    cubo = n ** 3\n",
    "    return cuadrado, cubo\n",
    "\n",
    "\n",
    "cuadradoycubo(3)"
   ]
  },
  {
   "cell_type": "markdown",
   "id": "numerous-wallace",
   "metadata": {},
   "source": [
    "### Funciones como objetos\n",
    "\n",
    "Las funciones en python son creadas como objetos. Aunque si analizamos bien todo en python es creado como objetos\n",
    "\n",
    "Una muestra de esto es que al colocar el nombre de la función del ejempĺo anterior nos muestra la referencia del objeto.\n",
    "\n",
    "\n"
   ]
  },
  {
   "cell_type": "code",
   "execution_count": 72,
   "id": "blond-jenny",
   "metadata": {},
   "outputs": [
    {
     "data": {
      "text/plain": [
       "<function __main__.cuadradoycubo(n)>"
      ]
     },
     "execution_count": 72,
     "metadata": {},
     "output_type": "execute_result"
    }
   ],
   "source": [
    "cuadradoycubo\n"
   ]
  },
  {
   "cell_type": "markdown",
   "id": "traditional-digit",
   "metadata": {},
   "source": [
    "### Funciones como parámetros de otras funciones\n",
    "\n",
    "Una función a su vez puede servir como parámetro de otra por ejemplo:\n"
   ]
  },
  {
   "cell_type": "code",
   "execution_count": 73,
   "id": "running-check",
   "metadata": {},
   "outputs": [
    {
     "name": "stdout",
     "output_type": "stream",
     "text": [
      "HOLA, YO FUI CREADO COMO POR UNA FUNCIÓN PASADA COMO ARGUMENTO.\n",
      "hola, yo fui creado como por una función pasada como argumento.\n"
     ]
    }
   ],
   "source": [
    "def gritar(text): \n",
    "    return text.upper() \n",
    "  \n",
    "def murmurar(text): \n",
    "    return text.lower() \n",
    "  \n",
    "def saludar(func): \n",
    "    saludando = func(\"Hola, Yo fui creado como por una función pasada como argumento.\") \n",
    "    print (saludando)  \n",
    "  \n",
    "saludar(gritar) \n",
    "saludar(murmurar) "
   ]
  },
  {
   "cell_type": "markdown",
   "id": "enormous-saying",
   "metadata": {},
   "source": [
    "### Funciones Anónimas o Lambdas\n",
    "\n",
    "Como su nombre lo indica son funciones que se definen sin un nombre. y se definen de la siguiente manera:\n",
    "\n",
    "**lambda parámetros: acción**\n",
    "\n",
    "por ejemplo:\n"
   ]
  },
  {
   "cell_type": "code",
   "execution_count": 74,
   "id": "veterinary-safety",
   "metadata": {},
   "outputs": [
    {
     "data": {
      "text/plain": [
       "6"
      ]
     },
     "execution_count": 74,
     "metadata": {},
     "output_type": "execute_result"
    }
   ],
   "source": [
    "producto = lambda x,y : x * y\n",
    "\n",
    "producto(2,3)"
   ]
  },
  {
   "cell_type": "markdown",
   "id": "subject-inclusion",
   "metadata": {},
   "source": [
    " Las funciones lambda pueden tener tantos argumentos como sean necesarios, pero solamente puede tener una expresión.\n",
    " \n",
    " Lo que diferencia a las funciones lambda es que no cuentan con un identificador.\n",
    " \n",
    " Comparemos lambda con una función normal:\n",
    "\n",
    " "
   ]
  },
  {
   "cell_type": "code",
   "execution_count": 75,
   "id": "liquid-facial",
   "metadata": {},
   "outputs": [
    {
     "name": "stdout",
     "output_type": "stream",
     "text": [
      "13\n",
      "13\n"
     ]
    }
   ],
   "source": [
    "#De la manera tradiciona\n",
    "def suma(x,y):\n",
    "    return(x + y)\n",
    "\n",
    "#Utilizando Lambda\n",
    "lambda x,y : x + y #Para poder utilizarla necesitamos guardarla en una variable.\n",
    "\n",
    "suma_dos = lambda x,y : x + y\n",
    "\n",
    "print(suma(5,8))\n",
    "print(suma_dos(5,8))"
   ]
  },
  {
   "cell_type": "code",
   "execution_count": null,
   "id": "strange-football",
   "metadata": {},
   "outputs": [],
   "source": []
  },
  {
   "cell_type": "code",
   "execution_count": null,
   "id": "dependent-gentleman",
   "metadata": {},
   "outputs": [],
   "source": []
  },
  {
   "cell_type": "code",
   "execution_count": null,
   "id": "smooth-soldier",
   "metadata": {},
   "outputs": [],
   "source": []
  },
  {
   "cell_type": "code",
   "execution_count": null,
   "id": "sonic-wallace",
   "metadata": {},
   "outputs": [],
   "source": []
  },
  {
   "cell_type": "code",
   "execution_count": null,
   "id": "legislative-secret",
   "metadata": {},
   "outputs": [],
   "source": []
  },
  {
   "cell_type": "code",
   "execution_count": null,
   "id": "authentic-pearl",
   "metadata": {},
   "outputs": [],
   "source": []
  },
  {
   "cell_type": "code",
   "execution_count": null,
   "id": "constitutional-alexandria",
   "metadata": {},
   "outputs": [],
   "source": []
  },
  {
   "cell_type": "code",
   "execution_count": null,
   "id": "introductory-second",
   "metadata": {},
   "outputs": [],
   "source": []
  },
  {
   "cell_type": "code",
   "execution_count": null,
   "id": "peripheral-twelve",
   "metadata": {},
   "outputs": [],
   "source": []
  },
  {
   "cell_type": "code",
   "execution_count": null,
   "id": "healthy-harvest",
   "metadata": {},
   "outputs": [],
   "source": []
  },
  {
   "cell_type": "code",
   "execution_count": null,
   "id": "extreme-words",
   "metadata": {},
   "outputs": [],
   "source": []
  },
  {
   "cell_type": "code",
   "execution_count": null,
   "id": "unavailable-tuesday",
   "metadata": {},
   "outputs": [],
   "source": []
  }
 ],
 "metadata": {
  "kernelspec": {
   "display_name": "Python 3",
   "language": "python",
   "name": "python3"
  },
  "language_info": {
   "codemirror_mode": {
    "name": "ipython",
    "version": 3
   },
   "file_extension": ".py",
   "mimetype": "text/x-python",
   "name": "python",
   "nbconvert_exporter": "python",
   "pygments_lexer": "ipython3",
   "version": "3.9.1"
  }
 },
 "nbformat": 4,
 "nbformat_minor": 5
}
